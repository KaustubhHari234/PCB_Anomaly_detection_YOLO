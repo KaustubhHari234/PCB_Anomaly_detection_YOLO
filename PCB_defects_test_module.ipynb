{
  "cells": [
    {
      "cell_type": "code",
      "execution_count": 2,
      "metadata": {
        "colab": {
          "base_uri": "https://localhost:8080/"
        },
        "id": "yd1QFh31cevV",
        "outputId": "1da96b81-f853-4e5e-9b9e-73e006251510"
      },
      "outputs": [
        {
          "name": "stdout",
          "output_type": "stream",
          "text": [
            "Collecting ultralytics\n",
            "  Downloading ultralytics-8.3.21-py3-none-any.whl.metadata (34 kB)\n",
            "Requirement already satisfied: numpy>=1.23.0 in /usr/local/lib/python3.10/dist-packages (from ultralytics) (1.26.4)\n",
            "Requirement already satisfied: matplotlib>=3.3.0 in /usr/local/lib/python3.10/dist-packages (from ultralytics) (3.7.1)\n",
            "Requirement already satisfied: opencv-python>=4.6.0 in /usr/local/lib/python3.10/dist-packages (from ultralytics) (4.10.0.84)\n",
            "Requirement already satisfied: pillow>=7.1.2 in /usr/local/lib/python3.10/dist-packages (from ultralytics) (10.4.0)\n",
            "Requirement already satisfied: pyyaml>=5.3.1 in /usr/local/lib/python3.10/dist-packages (from ultralytics) (6.0.2)\n",
            "Requirement already satisfied: requests>=2.23.0 in /usr/local/lib/python3.10/dist-packages (from ultralytics) (2.32.3)\n",
            "Requirement already satisfied: scipy>=1.4.1 in /usr/local/lib/python3.10/dist-packages (from ultralytics) (1.13.1)\n",
            "Requirement already satisfied: torch>=1.8.0 in /usr/local/lib/python3.10/dist-packages (from ultralytics) (2.5.0+cu121)\n",
            "Requirement already satisfied: torchvision>=0.9.0 in /usr/local/lib/python3.10/dist-packages (from ultralytics) (0.20.0+cu121)\n",
            "Requirement already satisfied: tqdm>=4.64.0 in /usr/local/lib/python3.10/dist-packages (from ultralytics) (4.66.5)\n",
            "Requirement already satisfied: psutil in /usr/local/lib/python3.10/dist-packages (from ultralytics) (5.9.5)\n",
            "Requirement already satisfied: py-cpuinfo in /usr/local/lib/python3.10/dist-packages (from ultralytics) (9.0.0)\n",
            "Requirement already satisfied: pandas>=1.1.4 in /usr/local/lib/python3.10/dist-packages (from ultralytics) (2.2.2)\n",
            "Requirement already satisfied: seaborn>=0.11.0 in /usr/local/lib/python3.10/dist-packages (from ultralytics) (0.13.2)\n",
            "Collecting ultralytics-thop>=2.0.0 (from ultralytics)\n",
            "  Downloading ultralytics_thop-2.0.9-py3-none-any.whl.metadata (9.3 kB)\n",
            "Requirement already satisfied: contourpy>=1.0.1 in /usr/local/lib/python3.10/dist-packages (from matplotlib>=3.3.0->ultralytics) (1.3.0)\n",
            "Requirement already satisfied: cycler>=0.10 in /usr/local/lib/python3.10/dist-packages (from matplotlib>=3.3.0->ultralytics) (0.12.1)\n",
            "Requirement already satisfied: fonttools>=4.22.0 in /usr/local/lib/python3.10/dist-packages (from matplotlib>=3.3.0->ultralytics) (4.54.1)\n",
            "Requirement already satisfied: kiwisolver>=1.0.1 in /usr/local/lib/python3.10/dist-packages (from matplotlib>=3.3.0->ultralytics) (1.4.7)\n",
            "Requirement already satisfied: packaging>=20.0 in /usr/local/lib/python3.10/dist-packages (from matplotlib>=3.3.0->ultralytics) (24.1)\n",
            "Requirement already satisfied: pyparsing>=2.3.1 in /usr/local/lib/python3.10/dist-packages (from matplotlib>=3.3.0->ultralytics) (3.2.0)\n",
            "Requirement already satisfied: python-dateutil>=2.7 in /usr/local/lib/python3.10/dist-packages (from matplotlib>=3.3.0->ultralytics) (2.8.2)\n",
            "Requirement already satisfied: pytz>=2020.1 in /usr/local/lib/python3.10/dist-packages (from pandas>=1.1.4->ultralytics) (2024.2)\n",
            "Requirement already satisfied: tzdata>=2022.7 in /usr/local/lib/python3.10/dist-packages (from pandas>=1.1.4->ultralytics) (2024.2)\n",
            "Requirement already satisfied: charset-normalizer<4,>=2 in /usr/local/lib/python3.10/dist-packages (from requests>=2.23.0->ultralytics) (3.4.0)\n",
            "Requirement already satisfied: idna<4,>=2.5 in /usr/local/lib/python3.10/dist-packages (from requests>=2.23.0->ultralytics) (3.10)\n",
            "Requirement already satisfied: urllib3<3,>=1.21.1 in /usr/local/lib/python3.10/dist-packages (from requests>=2.23.0->ultralytics) (2.2.3)\n",
            "Requirement already satisfied: certifi>=2017.4.17 in /usr/local/lib/python3.10/dist-packages (from requests>=2.23.0->ultralytics) (2024.8.30)\n",
            "Requirement already satisfied: filelock in /usr/local/lib/python3.10/dist-packages (from torch>=1.8.0->ultralytics) (3.16.1)\n",
            "Requirement already satisfied: typing-extensions>=4.8.0 in /usr/local/lib/python3.10/dist-packages (from torch>=1.8.0->ultralytics) (4.12.2)\n",
            "Requirement already satisfied: networkx in /usr/local/lib/python3.10/dist-packages (from torch>=1.8.0->ultralytics) (3.4.2)\n",
            "Requirement already satisfied: jinja2 in /usr/local/lib/python3.10/dist-packages (from torch>=1.8.0->ultralytics) (3.1.4)\n",
            "Requirement already satisfied: fsspec in /usr/local/lib/python3.10/dist-packages (from torch>=1.8.0->ultralytics) (2024.6.1)\n",
            "Requirement already satisfied: sympy==1.13.1 in /usr/local/lib/python3.10/dist-packages (from torch>=1.8.0->ultralytics) (1.13.1)\n",
            "Requirement already satisfied: mpmath<1.4,>=1.1.0 in /usr/local/lib/python3.10/dist-packages (from sympy==1.13.1->torch>=1.8.0->ultralytics) (1.3.0)\n",
            "Requirement already satisfied: six>=1.5 in /usr/local/lib/python3.10/dist-packages (from python-dateutil>=2.7->matplotlib>=3.3.0->ultralytics) (1.16.0)\n",
            "Requirement already satisfied: MarkupSafe>=2.0 in /usr/local/lib/python3.10/dist-packages (from jinja2->torch>=1.8.0->ultralytics) (3.0.2)\n",
            "Downloading ultralytics-8.3.21-py3-none-any.whl (877 kB)\n",
            "\u001b[2K   \u001b[90m━━━━━━━━━━━━━━━━━━━━━━━━━━━━━━━━━━━━━━━━\u001b[0m \u001b[32m877.1/877.1 kB\u001b[0m \u001b[31m26.9 MB/s\u001b[0m eta \u001b[36m0:00:00\u001b[0m\n",
            "\u001b[?25hDownloading ultralytics_thop-2.0.9-py3-none-any.whl (26 kB)\n",
            "Installing collected packages: ultralytics-thop, ultralytics\n",
            "Successfully installed ultralytics-8.3.21 ultralytics-thop-2.0.9\n"
          ]
        }
      ],
      "source": [
        "!pip install ultralytics"
      ]
    },
    {
      "cell_type": "code",
      "execution_count": 1,
      "metadata": {
        "colab": {
          "base_uri": "https://localhost:8080/"
        },
        "id": "FsCPzQalX4F5",
        "outputId": "a98ed501-95bb-47da-c297-10ae14da2479"
      },
      "outputs": [],
      "source": [
        "from ultralytics import YOLO\n",
        "import matplotlib.pyplot as plt"
      ]
    },
    {
      "cell_type": "code",
      "execution_count": 3,
      "metadata": {
        "id": "BWm4wCZcX9s1"
      },
      "outputs": [],
      "source": [
        "model = YOLO('PCB defect detection with YOLOv8.pt')"
      ]
    },
    {
      "cell_type": "code",
      "execution_count": 5,
      "metadata": {
        "colab": {
          "base_uri": "https://localhost:8080/"
        },
        "id": "7WoPFLhzcwuq",
        "outputId": "bbb55019-9eb5-4940-ce3c-9c7e6ee98d80"
      },
      "outputs": [
        {
          "name": "stdout",
          "output_type": "stream",
          "text": [
            "\n",
            "image 1/1 c:\\Programming\\............codes\\PCB defects\\images\\img22.jpg: 640x576 18 missing_holes, 2 mouse_bites, 1 short, 142.6ms\n",
            "Speed: 1.1ms preprocess, 142.6ms inference, 11.0ms postprocess per image at shape (1, 3, 640, 576)\n"
          ]
        }
      ],
      "source": [
        "image = 'images\\img22.jpg'\n",
        "results = model(image)"
      ]
    },
    {
      "cell_type": "code",
      "execution_count": 6,
      "metadata": {
        "id": "PO6lJknNdlzW"
      },
      "outputs": [
        {
          "name": "stdout",
          "output_type": "stream",
          "text": [
            "Class: missing_hole, Confidence: 0.76\n",
            "Coordinates: (348.30, 1544.87, 376.67, 1587.22)\n",
            "Class: missing_hole, Confidence: 0.75\n",
            "Coordinates: (1233.17, 1446.52, 1284.80, 1500.00)\n",
            "Class: missing_hole, Confidence: 0.69\n",
            "Coordinates: (1697.11, 1092.40, 1753.88, 1146.50)\n",
            "Class: missing_hole, Confidence: 0.68\n",
            "Coordinates: (1056.01, 954.19, 1080.19, 986.94)\n",
            "Class: missing_hole, Confidence: 0.66\n",
            "Coordinates: (694.82, 1689.15, 721.73, 1721.12)\n",
            "Class: missing_hole, Confidence: 0.64\n",
            "Coordinates: (1735.73, 1591.55, 1769.96, 1628.73)\n",
            "Class: missing_hole, Confidence: 0.64\n",
            "Coordinates: (1478.17, 922.46, 1528.29, 977.36)\n",
            "Class: missing_hole, Confidence: 0.62\n",
            "Coordinates: (974.75, 1119.69, 1001.03, 1152.17)\n",
            "Class: missing_hole, Confidence: 0.62\n",
            "Coordinates: (839.97, 1619.22, 884.08, 1668.45)\n",
            "Class: missing_hole, Confidence: 0.56\n",
            "Coordinates: (1502.30, 1920.66, 1617.80, 2045.23)\n",
            "Class: missing_hole, Confidence: 0.54\n",
            "Coordinates: (354.39, 613.17, 383.54, 649.38)\n",
            "Class: missing_hole, Confidence: 0.51\n",
            "Coordinates: (71.79, 1853.57, 124.23, 1904.49)\n",
            "Class: missing_hole, Confidence: 0.43\n",
            "Coordinates: (1151.97, 881.92, 1183.57, 917.55)\n",
            "Class: missing_hole, Confidence: 0.42\n",
            "Coordinates: (137.15, 1851.39, 187.28, 1906.93)\n",
            "Class: mouse_bite, Confidence: 0.42\n",
            "Coordinates: (954.18, 1654.51, 1038.89, 1742.81)\n",
            "Class: missing_hole, Confidence: 0.42\n",
            "Coordinates: (420.92, 1760.07, 447.99, 1788.85)\n"
          ]
        },
        {
          "ename": "",
          "evalue": "",
          "output_type": "error",
          "traceback": [
            "\u001b[1;31mThe Kernel crashed while executing code in the current cell or a previous cell. \n",
            "\u001b[1;31mPlease review the code in the cell(s) to identify a possible cause of the failure. \n",
            "\u001b[1;31mClick <a href='https://aka.ms/vscodeJupyterKernelCrash'>here</a> for more info. \n",
            "\u001b[1;31mView Jupyter <a href='command:jupyter.viewOutput'>log</a> for further details."
          ]
        }
      ],
      "source": [
        "boxes = results[0].boxes.xyxy\n",
        "confidences = results[0].boxes.conf\n",
        "classes = results[0].boxes.cls\n",
        "\n",
        "for box, confidence, cls_idx in zip(boxes, confidences, classes):\n",
        "    x1, y1, x2, y2 = box\n",
        "    class_name = model.names[int(cls_idx)]\n",
        "    print(f\"Class: {class_name}, Confidence: {confidence:.2f}\")\n",
        "    print(f\"Coordinates: ({x1:.2f}, {y1:.2f}, {x2:.2f}, {y2:.2f})\")\n",
        "\n",
        "    plt.imshow(results[0].orig_img)\n",
        "\n",
        "for box, confidence in zip(boxes, confidences):\n",
        "    if confidence > 0.55:\n",
        "        x_min, y_min, x_max, y_max = box.cpu().numpy()\n",
        "        plt.gca().add_patch(plt.Rectangle((x_min, y_min), x_max - x_min, y_max - y_min,\n",
        "                      edgecolor='red', linewidth=2, fill=False))\n",
        "\n",
        "for box, confidence, cls_idx in zip(boxes, confidences, classes):\n",
        "    if confidence > 0.55:\n",
        "        x_min, y_min, x_max, y_max = box.cpu().numpy()\n",
        "        plt.text(x_min, y_min - 10, f\"{model.names[int(cls_idx)]}: {confidence:.2f}\",\n",
        "                 color='red', fontsize=12)\n",
        "\n",
        "plt.show()"
      ]
    },
    {
      "cell_type": "code",
      "execution_count": null,
      "metadata": {
        "id": "_hlFKOl5l_3S"
      },
      "outputs": [],
      "source": []
    }
  ],
  "metadata": {
    "accelerator": "GPU",
    "colab": {
      "gpuType": "T4",
      "provenance": []
    },
    "kernelspec": {
      "display_name": "base",
      "language": "python",
      "name": "python3"
    },
    "language_info": {
      "codemirror_mode": {
        "name": "ipython",
        "version": 3
      },
      "file_extension": ".py",
      "mimetype": "text/x-python",
      "name": "python",
      "nbconvert_exporter": "python",
      "pygments_lexer": "ipython3",
      "version": "3.11.7"
    }
  },
  "nbformat": 4,
  "nbformat_minor": 0
}
